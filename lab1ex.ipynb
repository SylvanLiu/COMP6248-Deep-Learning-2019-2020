{
  "nbformat": 4,
  "nbformat_minor": 0,
  "metadata": {
    "colab": {
      "name": "lab1ex.ipynb",
      "provenance": []
    },
    "kernelspec": {
      "name": "python3",
      "display_name": "Python 3"
    }
  },
  "cells": [
    {
      "cell_type": "code",
      "metadata": {
        "id": "RemrrpqmYVMB",
        "colab_type": "code",
        "colab": {}
      },
      "source": [
        "try:\n",
        "    import torch\n",
        "except:\n",
        "    from os.path import exists\n",
        "    from wheel.pep425tags import get_abbr_impl, get_impl_ver, get_abi_tag\n",
        "    platform = '{}{}-{}'.format(get_abbr_impl(), get_impl_ver(), get_abi_tag())\n",
        "    cuda_output = !ldconfig -p|grep cudart.so|sed -e 's/.*\\.\\([0-9]*\\)\\.\\([0-9]*\\)$/cu\\1\\2/'\n",
        "    accelerator = cuda_output[0] if exists('/dev/nvidia0') else 'cpu'\n",
        "\n",
        "    !pip install -q http://download.pytorch.org/whl/{accelerator}/torch-1.0.0-{platform}-linux_x86_64.whl torchvision"
      ],
      "execution_count": 0,
      "outputs": []
    },
    {
      "cell_type": "markdown",
      "metadata": {
        "id": "KqEfenhEkNjA",
        "colab_type": "text"
      },
      "source": [
        "1.1 Implement gradient-based factorisation (1 mark)"
      ]
    },
    {
      "cell_type": "code",
      "metadata": {
        "id": "TYojtmdDLki1",
        "colab_type": "code",
        "colab": {}
      },
      "source": [
        "from typing import Tuple\n",
        "\n",
        "# A = torch.Tensor([[5,3,0,1], [4,0,0,1], [1,1,0,5], [1,0,0,4],[0,1,5,4]])\n",
        "# m, n = A.shape\n",
        "# r = 3\n",
        "# N = 1000\n",
        "# lr = 0.01\n",
        "\n",
        "def sgd_factorise(A, r, N, lr):\n",
        "  # initialised\n",
        "  U = torch.rand(m, r)\n",
        "  V = torch.rand(n, r)\n",
        "   \n",
        "  for epoch in range(N):\n",
        "    # iterative update\n",
        "    for r in range(m):\n",
        "      # row\n",
        "      for c in range(n):\n",
        "        # column\n",
        "        e = A[r, c] - U[r] @ V[c].t()\n",
        "        U[r] = U[r] + lr*e*V[c]\n",
        "        V[c] = V[c] + lr*e*U[r]\n",
        "  return U, V\n",
        "\n",
        "# U, V = sgd_factorise(A,r,N,lr)\n",
        "# print(U)\n",
        "# print(V)"
      ],
      "execution_count": 0,
      "outputs": []
    },
    {
      "cell_type": "markdown",
      "metadata": {
        "id": "4kNEK-sPkWq7",
        "colab_type": "text"
      },
      "source": [
        "1.2 Factorise and compute reconstruction error (1 mark)"
      ]
    },
    {
      "cell_type": "code",
      "metadata": {
        "id": "IOVwEl-Nj9MD",
        "colab_type": "code",
        "colab": {
          "base_uri": "https://localhost:8080/",
          "height": 153
        },
        "outputId": "07fb11d5-2d09-4365-e6a0-a3093fd8c94d"
      },
      "source": [
        "A = torch.Tensor([[0.3374,0.6005,0.1735], \n",
        "                  [3.3359,0.0492,1.8374], \n",
        "                  [2.9407,0.5301,2.2620]])\n",
        "m, n = A.shape\n",
        "r = 2\n",
        "N = 1000\n",
        "lr = 0.01\n",
        "\n",
        "U, V = sgd_factorise(A,r,N,lr)\n",
        "print(\"U:\")\n",
        "print(U)\n",
        "print(\"V:\")\n",
        "print(V)"
      ],
      "execution_count": 27,
      "outputs": [
        {
          "output_type": "stream",
          "text": [
            "U:\n",
            "tensor([[-0.0704,  0.3450],\n",
            "        [ 0.9041,  1.6369],\n",
            "        [ 1.4271,  1.1171]])\n",
            "V:\n",
            "tensor([[0.9390, 1.4798],\n",
            "        [0.0732, 0.1708],\n",
            "        [1.1493, 0.5188]])\n"
          ],
          "name": "stdout"
        }
      ]
    },
    {
      "cell_type": "code",
      "metadata": {
        "id": "ycetlj8nkMC6",
        "colab_type": "code",
        "colab": {
          "base_uri": "https://localhost:8080/",
          "height": 34
        },
        "outputId": "774c743b-0d63-49a4-875b-4c39084b2b2a"
      },
      "source": [
        "# compute reconstruction loss\n",
        "# e1 = (A - U@V.t())**2\n",
        "# error1 = torch.sum(e1)\n",
        "# print(error1)\n",
        "loss_fn = torch.nn.MSELoss(reduction = 'sum')\n",
        "loss1 = loss_fn(A, U@V.t())\n",
        "print(loss1)"
      ],
      "execution_count": 28,
      "outputs": [
        {
          "output_type": "stream",
          "text": [
            "tensor(0.4705)\n"
          ],
          "name": "stdout"
        }
      ]
    },
    {
      "cell_type": "markdown",
      "metadata": {
        "id": "-_7es77AmsR9",
        "colab_type": "text"
      },
      "source": [
        "2.1 Compare to the truncated-SVD (1 mark)"
      ]
    },
    {
      "cell_type": "code",
      "metadata": {
        "id": "1ueBsaacmvSU",
        "colab_type": "code",
        "colab": {
          "base_uri": "https://localhost:8080/",
          "height": 85
        },
        "outputId": "e52d94e6-a2ce-4e26-dba1-56a8f8fa8e1e"
      },
      "source": [
        "u, s, v =torch.svd(A)\n",
        "# set the last singular value to zero \n",
        "s[2]=0\n",
        "# compute the reconstruction\n",
        "A1 = torch.mm(torch.mm(u, torch.diag(s)), v.t())\n",
        "print(A1)\n",
        "\n",
        "# compute error\n",
        "# e2 = (A-A1)**2\n",
        "# error2 = torch.sum(e2)\n",
        "# print(error2)\n",
        "loss2 = loss_fn(A, A1)\n",
        "print(loss2)"
      ],
      "execution_count": 29,
      "outputs": [
        {
          "output_type": "stream",
          "text": [
            "tensor([[ 0.2245,  0.5212,  0.3592],\n",
            "        [ 3.2530, -0.0090,  1.9737],\n",
            "        [ 3.0378,  0.5983,  2.1023]])\n",
            "tensor(0.1219)\n"
          ],
          "name": "stdout"
        }
      ]
    },
    {
      "cell_type": "markdown",
      "metadata": {
        "id": "mlbIQARE4lKO",
        "colab_type": "text"
      },
      "source": [
        "3.1 Implement masked factorisation (1 mark)"
      ]
    },
    {
      "cell_type": "code",
      "metadata": {
        "id": "eGBu3MPv4nod",
        "colab_type": "code",
        "colab": {}
      },
      "source": [
        "def sgd_factorise_masked(A, M, r, N, lr):\n",
        "  # initialised\n",
        "  U = torch.rand(m, r)\n",
        "  V = torch.rand(n, r)\n",
        "\n",
        "  for epoch in range(N):\n",
        "    # iterative update\n",
        "    for r in range(m):\n",
        "      # row\n",
        "      for c in range(n):        \n",
        "        # column\n",
        "        if M[r,c]=='1':\n",
        "          # if value is valid\n",
        "          e = A[r, c] - U[r] @ V[c].t()\n",
        "          U[r] = U[r] + lr*e*V[c]\n",
        "          V[c] = V[c] + lr*e*U[r]\n",
        "        # elif M[r,c]=='0':\n",
        "        #   pass\n",
        "  return U, V"
      ],
      "execution_count": 0,
      "outputs": []
    },
    {
      "cell_type": "markdown",
      "metadata": {
        "id": "UeR2ngnS9B4-",
        "colab_type": "text"
      },
      "source": [
        "3.2 Reconstruct a matrix (1 mark)"
      ]
    },
    {
      "cell_type": "code",
      "metadata": {
        "id": "FgCOx-Tx9Doe",
        "colab_type": "code",
        "colab": {
          "base_uri": "https://localhost:8080/",
          "height": 68
        },
        "outputId": "ee033193-b50c-4a32-b922-89f3b1ac3106"
      },
      "source": [
        "A = torch.Tensor([[0.3374,0.6005,0.1735], \n",
        "                  [0,0.0492,1.8374], \n",
        "                  [2.9407,0,2.2620]])\n",
        "M = torch.Tensor([[1,1,1],\n",
        "                  [0,1,1],\n",
        "                  [1,0,1]])\n",
        "m, n = A.shape\n",
        "r = 2\n",
        "N = 1000\n",
        "lr = 0.01\n",
        "\n",
        "U,V = sgd_factorise_masked(A, M, r, N, lr)\n",
        "A_completed = U@V.t()\n",
        "print(A_completed)"
      ],
      "execution_count": 35,
      "outputs": [
        {
          "output_type": "stream",
          "text": [
            "tensor([[0.2666, 0.2504, 0.0678],\n",
            "        [0.5275, 0.4992, 0.1063],\n",
            "        [1.6269, 1.5078, 0.5631]])\n"
          ],
          "name": "stdout"
        }
      ]
    }
  ]
}