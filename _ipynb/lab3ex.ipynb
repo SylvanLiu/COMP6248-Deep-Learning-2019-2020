{
  "nbformat": 4,
  "nbformat_minor": 0,
  "metadata": {
    "colab": {
      "name": "lab3ex.ipynb",
      "provenance": [],
      "collapsed_sections": []
    },
    "kernelspec": {
      "name": "python3",
      "display_name": "Python 3"
    }
  },
  "cells": [
    {
      "cell_type": "markdown",
      "metadata": {
        "id": "T4OxXKXmo4Md",
        "colab_type": "text"
      },
      "source": [
        "\n",
        "1 Exploring optimisation of analytic functions\n",
        "\n",
        "1.1 Rastrigin (3 marks)"
      ]
    },
    {
      "cell_type": "code",
      "metadata": {
        "id": "JES2LQLJlSoZ",
        "colab_type": "code",
        "colab": {
          "base_uri": "https://localhost:8080/",
          "height": 296
        },
        "outputId": "9fbc196a-69ca-4fd6-dc10-b48cd068c789"
      },
      "source": [
        "import torch\n",
        "import torch.optim as optim\n",
        "import math\n",
        "import numpy as np\n",
        "%matplotlib inline\n",
        "import matplotlib.pyplot as plt\n",
        "\n",
        "def Rastrigin(x):\n",
        "  loss = 2 + x[0]**2 + x[1]**2 - math.cos(2*math.pi*x[0]) - math.cos(2*math.pi*x[1])\n",
        "  return loss\n",
        "\n",
        "p_sgd = torch.tensor([[5.0],[5.0]], requires_grad=True)\n",
        "opt_sgd = optim.SGD([p_sgd], lr=0.01)\n",
        "loss_sgd = np.empty((2,0))\n",
        "loss_sgd = np.append(loss_sgd, p_sgd.data.numpy(),axis=1)\n",
        "\n",
        "p_sgdmom = torch.tensor([[5.0],[5.0]], requires_grad=True)\n",
        "opt_sgdmom = optim.SGD([p_sgdmom], lr=0.01,momentum=0.9)\n",
        "loss_sgdmom = np.empty((2,0))\n",
        "loss_sgdmom = np.append(loss_sgdmom, p_sgdmom.data.numpy(),axis=1)\n",
        "\n",
        "p_adag = torch.tensor([[5.0],[5.0]], requires_grad=True)\n",
        "opt_adag = optim.Adagrad([p_adag], lr=0.01)\n",
        "loss_adag = np.empty((2,0))\n",
        "loss_adag = np.append(loss_adag, p_adag.data.numpy(),axis=1)\n",
        "\n",
        "p_adag = torch.tensor([[5.0],[5.0]], requires_grad=True)\n",
        "opt_adag = optim.Adagrad([p_adag], lr=0.01)\n",
        "loss_adag = np.empty((2,0))\n",
        "loss_adag = np.append(loss_adag, p_adag.data.numpy(),axis=1)\n",
        "\n",
        "p_adam = torch.tensor([[5.0],[5.0]], requires_grad=True)\n",
        "opt_adam = optim.Adam([p_adam], lr=0.01)\n",
        "loss_adam = np.empty((2,0))\n",
        "loss_adam = np.append(loss_adam, p_adam.data.numpy(),axis=1)\n",
        "\n",
        "maxIter = 100\n",
        "\n",
        "for i in range(maxIter):\n",
        "  opt_sgd.zero_grad()\n",
        "  output_sgd = Rastrigin(p_sgd)\n",
        "  output_sgd.backward()\n",
        "  opt_sgd.step()\n",
        "  loss_sgd = np.append(loss_sgd, p_sgd.data.numpy(),axis=1)\n",
        "\n",
        "  opt_sgdmom.zero_grad()\n",
        "  output_sgdmom = Rastrigin(p_sgdmom)\n",
        "  output_sgdmom.backward()\n",
        "  opt_sgdmom.step()\n",
        "  loss_sgdmom = np.append(loss_sgdmom, p_sgdmom.data.numpy(),axis=1)\n",
        "\n",
        "  opt_adag.zero_grad()\n",
        "  output_adag = Rastrigin(p_adag)\n",
        "  output_adag.backward()\n",
        "  opt_adag.step()\n",
        "  loss_adag = np.append(loss_adag, p_adag.data.numpy(),axis=1)\n",
        "\n",
        "  opt_adam.zero_grad()\n",
        "  output_adam = Rastrigin(p_adam)\n",
        "  output_adam.backward()\n",
        "  opt_adam.step()\n",
        "  loss_adam = np.append(loss_adam, p_adam.data.numpy(),axis=1)\n",
        "\n",
        "plt.plot(np.arange(0,101,1),loss_sgd[0], c='red', label='SGD')\n",
        "plt.plot(np.arange(0,101,1),loss_sgdmom[0], c='yellow', label='SGD+Momentum')\n",
        "plt.plot(np.arange(0,101,1),loss_adag[0], c='blue', label='Adagrad')\n",
        "plt.plot(np.arange(0,101,1),loss_adam[0], c='green', label='Adam')\n",
        "plt.xlim(0,100)\n",
        "plt.xlabel('Iteration')\n",
        "plt.ylabel('loss function')\n",
        "plt.legend(loc=\"upper right\")\n",
        "plt.show()\n",
        "plt.savefig(\"loss function.png\")"
      ],
      "execution_count": 1,
      "outputs": [
        {
          "output_type": "display_data",
          "data": {
            "image/png": "[encoded data removed]",
            "text/plain": [
              "<Figure size 432x288 with 1 Axes>"
            ]
          },
          "metadata": {
            "tags": [],
            "needs_background": "light"
          }
        },
        {
          "output_type": "display_data",
          "data": {
            "text/plain": [
              "<Figure size 432x288 with 0 Axes>"
            ]
          },
          "metadata": {
            "tags": []
          }
        }
      ]
    },
    {
      "cell_type": "markdown",
      "metadata": {
        "id": "ihlCtiSPozVZ",
        "colab_type": "text"
      },
      "source": [
        "2 Optimisation of a SVM on real data\n",
        "\n",
        "2.1 Iris SVM (2 marks)"
      ]
    },
    {
      "cell_type": "code",
      "metadata": {
        "id": "uZlL2cmtpOQe",
        "colab_type": "code",
        "colab": {}
      },
      "source": [
        "import torch\n",
        "import pandas as pd\n",
        "\n",
        "df = pd.read_csv('https://archive.ics.uci.edu/ml/machine-learning-databases'+'/iris/iris.data', header=None)\n",
        "df = df.sample(frac=1, random_state=0) #shuffle\n",
        "\n",
        "df = df[df[4].isin(['Iris-virginica', 'Iris-versicolor'])] #filter\n",
        "\n",
        "# add label indices column\n",
        "mapping = {k: v for v, k in enumerate(df [4]. unique())} \n",
        "df[5] = (2 * df[4].map(mapping)) - 1 \n",
        "#labels in {−1,1}\n",
        "\n",
        "# normalise data\n",
        "alldata = torch.tensor(df.iloc[:, [0,1,2,3]].values, dtype=torch.float) \n",
        "alldata = (alldata - alldata.mean(dim=0)) / alldata.var(dim=0)\n",
        "\n",
        "# create datasets\n",
        "targets_tr = torch.tensor(df.iloc[:75, 5].values, dtype=torch.long) \n",
        "targets_va = torch.tensor(df.iloc[75:, 5].values, dtype=torch.long) \n",
        "data_tr = alldata [:75]\n",
        "data_va = alldata [75:]"
      ],
      "execution_count": 0,
      "outputs": []
    },
    {
      "cell_type": "code",
      "metadata": {
        "id": "JNgNenK-xi4I",
        "colab_type": "code",
        "colab": {}
      },
      "source": [
        "from torch.utils import data\n",
        "\n",
        "dataset = data.TensorDataset(data_tr,targets_tr) # create your datset\n",
        "dataloader = data.DataLoader(dataset, batch_size=25, shuffle=True) # create your dataloader"
      ],
      "execution_count": 0,
      "outputs": []
    },
    {
      "cell_type": "code",
      "metadata": {
        "id": "PHsUvnT3wL9q",
        "colab_type": "code",
        "colab": {
          "base_uri": "https://localhost:8080/",
          "height": 34
        },
        "outputId": "d1280232-e759-4ed2-f9e0-d8339e8aba60"
      },
      "source": [
        "def hinge_loss(y_pred, y_true):\n",
        "    # YOUR CODE HERE\n",
        "    loss = torch.mean(torch.clamp(1- y_pred.t() * y_true ,min=0))\n",
        "    return loss\n",
        "\n",
        "def svm(x, w, b):\n",
        "    h = (w*x).sum(1) + b\n",
        "    return h\n",
        "\n",
        "# initialised\n",
        "w = torch.randn(1, 4, requires_grad=True)\n",
        "b = torch.randn(1, requires_grad=True)\n",
        "\n",
        "# train\n",
        "opt = optim.SGD([w,b], lr=0.01, weight_decay=0.0001)\n",
        "\n",
        "for epoch in range(100):\n",
        "  sum_loss = 0\n",
        "  N = len(targets_tr)\n",
        "  for batch in dataloader:\n",
        "    opt.zero_grad()\n",
        "    x = batch[0]\n",
        "    y = batch[1]\n",
        "    output = svm(x, w, b)\n",
        "    loss = hinge_loss(output, y)\n",
        "    loss.backward()\n",
        "    opt.step()      \n",
        "    sum_loss += loss.data.numpy()\n",
        "  # print(sum_loss/N)\n",
        "\n",
        "# validation\n",
        "y_va_pred = svm(data_va, w, b)\n",
        "acc_va = sum(y_va_pred.detach().numpy() * targets_va.numpy()>=0)/len(data_va)\n",
        "print(acc_va)"
      ],
      "execution_count": 35,
      "outputs": [
        {
          "output_type": "stream",
          "text": [
            "0.88\n"
          ],
          "name": "stdout"
        }
      ]
    },
    {
      "cell_type": "code",
      "metadata": {
        "id": "1USldWhF8ZT3",
        "colab_type": "code",
        "colab": {
          "base_uri": "https://localhost:8080/",
          "height": 34
        },
        "outputId": "23c6219f-bbf2-4c95-a939-c344932eeaec"
      },
      "source": [
        "def hinge_loss(y_pred, y_true):\n",
        "    # YOUR CODE HERE\n",
        "    loss = torch.mean(torch.clamp(1- y_pred.t() * y_true ,min=0))\n",
        "    return loss\n",
        "\n",
        "def svm(x, w, b):\n",
        "    h = (w*x).sum(1) + b\n",
        "    return h\n",
        "\n",
        "# initialised\n",
        "w = torch.randn(1, 4, requires_grad=True)\n",
        "b = torch.randn(1, requires_grad=True)\n",
        "\n",
        "# train\n",
        "opt = optim.Adam([w,b], lr=0.01, weight_decay=0.0001)\n",
        "\n",
        "for epoch in range(100):\n",
        "  sum_loss = 0\n",
        "  N = len(targets_tr)\n",
        "  for batch in dataloader:\n",
        "    opt.zero_grad()\n",
        "    x = batch[0]\n",
        "    y = batch[1]\n",
        "    output = svm(x, w, b)\n",
        "    loss = hinge_loss(output, y)\n",
        "    loss.backward()\n",
        "    opt.step()      \n",
        "    sum_loss += loss.data.numpy()\n",
        "  # print(sum_loss/N)\n",
        "\n",
        "# validation\n",
        "y_va_pred = svm(data_va, w, b)\n",
        "acc_va = sum(y_va_pred.detach().numpy() * targets_va.numpy()>=0)/len(data_va)\n",
        "print(acc_va)"
      ],
      "execution_count": 36,
      "outputs": [
        {
          "output_type": "stream",
          "text": [
            "0.92\n"
          ],
          "name": "stdout"
        }
      ]
    }
  ]
}