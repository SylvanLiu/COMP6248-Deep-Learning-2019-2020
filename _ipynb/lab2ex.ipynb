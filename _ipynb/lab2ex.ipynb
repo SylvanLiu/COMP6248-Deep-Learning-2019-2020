{
  "cells": [
    {
      "cell_type": "code",
      "metadata": {
        "id": "NE4pz4SYcgij",
        "colab_type": "code",
        "colab": {}
      },
      "source": [
        "try:\n",
        "    import torch\n",
        "except:\n",
        "    from os.path import exists\n",
        "    from wheel.pep425tags import get_abbr_impl, get_impl_ver, get_abi_tag\n",
        "    platform = '{}{}-{}'.format(get_abbr_impl(), get_impl_ver(), get_abi_tag())\n",
        "    cuda_output = !ldconfig -p|grep cudart.so|sed -e 's/.*\\.\\([0-9]*\\)\\.\\([0-9]*\\)$/cu\\1\\2/'\n",
        "    accelerator = cuda_output[0] if exists('/dev/nvidia0') else 'cpu'\n",
        "\n",
        "    !pip install -q http://download.pytorch.org/whl/{accelerator}/torch-1.0.0-{platform}-linux_x86_64.whl torchvision"
      ],
      "execution_count": 0,
      "outputs": []
    },
    {
      "cell_type": "markdown",
      "metadata": {
        "id": "reO0DdV9o4w0",
        "colab_type": "text"
      },
      "source": [
        "1.1 Implement gradient-based factorisation using PyTorch’s AD (1 mark)"
      ]
    },
    {
      "cell_type": "code",
      "metadata": {
        "id": "Zimbe-Cko6ad",
        "colab_type": "code",
        "colab": {
          "base_uri": "https://localhost:8080/",
          "height": 170
        },
        "outputId": "278c279c-18a4-478a-d9a6-c1071855617d"
      },
      "source": [
        "from typing import Tuple\n",
        "from torch.autograd import Variable\n",
        "\n",
        "def sgd_factorise_ad(A, r, N, lr):\n",
        "  # initialised\n",
        "  m, n = A.shape\n",
        "  U = Variable(torch.rand(m, r),requires_grad=True)\n",
        "  V = Variable(torch.rand(n, r),requires_grad=True)\n",
        "   \n",
        "  for epoch in range(N):\n",
        "    # iterative update\n",
        "    loss_fn = torch.nn.MSELoss(reduction = 'sum')\n",
        "    e = loss_fn(A, U@V.t())\n",
        "    e.backward()\n",
        "    U.data = U.data - lr*U.grad.data\n",
        "    V.data = V.data - lr*V.grad.data\n",
        "    U.grad.data.zero_()\n",
        "    V.grad.data.zero_()\n",
        "\n",
        "  return U, V\n",
        "\n",
        "\n",
        "A = torch.Tensor([[0.3374,0.6005,0.1735], \n",
        "                  [3.3359,0.0492,1.8374], \n",
        "                  [2.9407,0.5301,2.2620]])\n",
        "r = 2\n",
        "N = 1000\n",
        "lr = 0.01\n",
        "\n",
        "U, V = sgd_factorise_ad(A,r,N,lr)\n",
        "print(\"U:\")\n",
        "print(U)\n",
        "print(\"V:\")\n",
        "print(V)\n",
        "\n",
        "loss_fn = torch.nn.MSELoss(reduction = 'sum')\n",
        "lossAD = loss_fn(A, U@V.t())\n",
        "print(lossAD)"
      ],
      "execution_count": 14,
      "outputs": [
        {
          "output_type": "stream",
          "text": [
            "U:\n",
            "tensor([[-0.1032,  0.5840],\n",
            "        [ 1.7575,  0.3827],\n",
            "        [ 1.3791,  1.0075]], requires_grad=True)\n",
            "V:\n",
            "tensor([[ 1.7021,  0.6849],\n",
            "        [-0.1919,  0.8568],\n",
            "        [ 0.9519,  0.7843]], requires_grad=True)\n",
            "tensor(0.1219, grad_fn=<SumBackward0>)\n"
          ],
          "name": "stdout"
        }
      ]
    },
    {
      "cell_type": "markdown",
      "metadata": {
        "id": "Jx6tDo2U_nQR",
        "colab_type": "text"
      },
      "source": [
        "1.2 Factorise and compute reconstruction error on real data (1 mark)"
      ]
    },
    {
      "cell_type": "code",
      "metadata": {
        "id": "vocn0aa__olg",
        "colab_type": "code",
        "colab": {
          "base_uri": "https://localhost:8080/",
          "height": 71
        },
        "outputId": "5cb06b05-858f-4c80-93ee-659672656b7f"
      },
      "source": [
        "import pandas as pd\n",
        "\n",
        "df = pd.read_csv('https://archive.ics.uci.edu/ml/machine-learning-databases'+'/iris/iris.data', header=None)\n",
        "data = torch.tensor(df.iloc[:, [0,1,2,3]].values)\n",
        "data = data - data.mean(dim=0)\n",
        "\n",
        "r = 2\n",
        "N = 1000\n",
        "lr = 0.01\n",
        "\n",
        "U, V = sgd_factorise_ad(data,r,N,lr)\n",
        "loss_fn = torch.nn.MSELoss(reduction = 'sum')\n",
        "loss_iris = loss_fn(data, U@V.t())\n",
        "print(\"sgd reconstruction loss:\", loss_iris)\n",
        "\n",
        "u, s, v = torch.svd(data)\n",
        "s[2]=s[3]=0\n",
        "data_svd = torch.mm(torch.mm(u, torch.diag(s)), v.t())\n",
        "loss_svd = loss_fn(data, data_svd)\n",
        "print(\"svd reconstruction loss:\", loss_svd)"
      ],
      "execution_count": 75,
      "outputs": [
        {
          "output_type": "stream",
          "text": [
            "sgd reconstruction loss: tensor(15.2289, dtype=torch.float64, grad_fn=<SumBackward0>)\n",
            "svd reconstruction loss: tensor(15.2288, dtype=torch.float64)\n"
          ],
          "name": "stdout"
        }
      ]
    },
    {
      "cell_type": "markdown",
      "metadata": {
        "id": "7uK6srApIjV3",
        "colab_type": "text"
      },
      "source": [
        "1.3 Compare against PCA (1 mark)"
      ]
    },
    {
      "cell_type": "code",
      "metadata": {
        "id": "pQtGzZPHIlyw",
        "colab_type": "code",
        "colab": {
          "base_uri": "https://localhost:8080/",
          "height": 282
        },
        "outputId": "420fc6db-7260-4f74-fdfd-b695fb39ba9a"
      },
      "source": [
        "import matplotlib.pyplot as plt\n",
        "\n",
        "u, s, v = torch.svd(data)\n",
        "s[2]=s[3]=0\n",
        "svd_data = torch.mm(u, torch.diag(s))\n",
        "plt.scatter(svd_data[:,0],svd_data[:,1],s=10)"
      ],
      "execution_count": 106,
      "outputs": [
        {
          "output_type": "execute_result",
          "data": {
            "text/plain": [
              "<matplotlib.collections.PathCollection at 0x7f645e60c908>"
            ]
          },
          "metadata": {
            "tags": []
          },
          "execution_count": 106
        },
        {
          "output_type": "display_data",
          "data": {
            "image/png": "[encoded data removed]",
            "text/plain": [
              "<Figure size 432x288 with 1 Axes>"
            ]
          },
          "metadata": {
            "tags": []
          }
        }
      ]
    },
    {
      "cell_type": "code",
      "metadata": {
        "id": "GaFSLprWa674",
        "colab_type": "code",
        "colab": {
          "base_uri": "https://localhost:8080/",
          "height": 282
        },
        "outputId": "f7fa0e55-06a1-4f78-cdf8-0fa6e8aa0a82"
      },
      "source": [
        "U, V = sgd_factorise_ad(data,r,N,lr)\n",
        "plt.scatter(U.data[:,0],U.data[:,1],s=10)"
      ],
      "execution_count": 109,
      "outputs": [
        {
          "output_type": "execute_result",
          "data": {
            "text/plain": [
              "<matplotlib.collections.PathCollection at 0x7f645e4a9198>"
            ]
          },
          "metadata": {
            "tags": []
          },
          "execution_count": 109
        },
        {
          "output_type": "display_data",
          "data": {
            "image/png": "[encoded data removed]",
            "text/plain": [
              "<Figure size 432x288 with 1 Axes>"
            ]
          },
          "metadata": {
            "tags": []
          }
        }
      ]
    },
    {
      "cell_type": "markdown",
      "metadata": {
        "id": "ANRqp9pHgeYC",
        "colab_type": "text"
      },
      "source": [
        "2.1 Implement the MLP (1 mark)"
      ]
    },
    {
      "cell_type": "code",
      "metadata": {
        "id": "Y2OpIqAog3ii",
        "colab_type": "code",
        "colab": {}
      },
      "source": [
        "import pandas as pd\n",
        "import numpy as np\n",
        "\n",
        "def train(data_tr, targets_tr, data_va, targets_va, N, lr):\n",
        "    # initialised\n",
        "    W1 = Variable(torch.randn(4,12), requires_grad=True)\n",
        "    W2 = Variable(torch.randn(12,3), requires_grad=True)\n",
        "    b1 = Variable(torch.tensor(0.0), requires_grad=True)\n",
        "    b2 = Variable(torch.tensor(0.0), requires_grad=True)   \n",
        "\n",
        "    # train\n",
        "    for epoch in range(N):\n",
        "      logits = torch.relu(data_tr @ W1 + b1) @ W2 +b2\n",
        "      loss = torch.nn.functional.cross_entropy(logits, targets_tr)\n",
        "      loss.backward()\n",
        "      with torch.no_grad():\n",
        "        W1.data = W1.data - lr*W1.grad.data\n",
        "        W2.data = W2.data - lr*W2.grad.data\n",
        "        b1.data = b1.data - lr*b1.grad.data\n",
        "        b2.data = b2.data - lr*b2.grad.data\n",
        "      W1.grad.data.zero_()\n",
        "      W2.grad.data.zero_()\n",
        "      b1.grad.data.zero_()\n",
        "      b2.grad.data.zero_()\n",
        "    \n",
        "    # validation\n",
        "    y_tr_pr = torch.relu(data_tr @ W1 + b1) @ W2 +b2\n",
        "    y_tr_pred = list(map(lambda x:np.argmax(x), y_tr_pr.data.numpy()))\n",
        "    acc_tr = sum(y_tr_pred == targets_tr.numpy())/len(data_tr)\n",
        "\n",
        "    y_va_pr = torch.relu(data_va @ W1 + b1) @ W2 +b2\n",
        "    y_va_pred = list(map(lambda x:np.argmax(x), y_va_pr.data.numpy()))\n",
        "    acc_va = sum(y_va_pred == targets_va.numpy())/len(data_va)\n",
        "\n",
        "    return acc_tr, acc_va\n"
      ],
      "execution_count": 0,
      "outputs": []
    },
    {
      "cell_type": "markdown",
      "metadata": {
        "id": "YPmyNxoKbP-A",
        "colab_type": "text"
      },
      "source": [
        "2.2 Test the MLP (1 mark)"
      ]
    },
    {
      "cell_type": "code",
      "metadata": {
        "id": "9_bJa1f5bX5A",
        "colab_type": "code",
        "colab": {
          "base_uri": "https://localhost:8080/",
          "height": 187
        },
        "outputId": "ad325879-7f6d-4207-f892-862145ee7b1a"
      },
      "source": [
        "df = pd.read_csv('https://archive.ics.uci.edu/ml/machine-learning-databases'+'/iris/iris.data', header=None)\n",
        "df = df.sample(frac=1) #shuffle\n",
        "\n",
        "# add label indices column\n",
        "mapping = {k: v for v, k in enumerate(df[4].unique())}\n",
        "df[5] = df[4].map(mapping)\n",
        "\n",
        "# normalise data\n",
        "alldata = torch.tensor(df.iloc[:, [0, 1, 2, 3]].values, dtype=torch.float)\n",
        "alldata = (alldata - alldata.mean(dim=0)) / alldata.var(dim=0)\n",
        "\n",
        "# create datasets\n",
        "targets_tr = torch.tensor(df.iloc[:100, 5].values, dtype=torch.long)\n",
        "targets_va = torch.tensor(df.iloc[100:, 5].values, dtype=torch.long)\n",
        "data_tr = alldata[:100]\n",
        "data_va = alldata[100:]\n",
        "\n",
        "N = 100\n",
        "lr = 0.01\n",
        "\n",
        "for i in range(10):\n",
        "  acc_tr, acc_va = train(data_tr, targets_tr, data_va, targets_va, N, lr)\n",
        "  print(i+1,\"training accuracy:\", acc_tr,\"validation accuracy:\", acc_va)"
      ],
      "execution_count": 61,
      "outputs": [
        {
          "output_type": "stream",
          "text": [
            "1 training accuracy: 0.77 validation accuracy: 0.74\n",
            "2 training accuracy: 0.89 validation accuracy: 0.88\n",
            "3 training accuracy: 0.59 validation accuracy: 0.6\n",
            "4 training accuracy: 0.43 validation accuracy: 0.42\n",
            "5 training accuracy: 0.77 validation accuracy: 0.78\n",
            "6 training accuracy: 0.82 validation accuracy: 0.76\n",
            "7 training accuracy: 0.72 validation accuracy: 0.68\n",
            "8 training accuracy: 0.78 validation accuracy: 0.76\n",
            "9 training accuracy: 0.79 validation accuracy: 0.78\n",
            "10 training accuracy: 0.81 validation accuracy: 0.8\n"
          ],
          "name": "stdout"
        }
      ]
    }
  ],
  "metadata": {
    "colab": {
      "name": "lab2ex.ipynb",
      "provenance": [],
      "collapsed_sections": []
    },
    "kernelspec": {
      "name": "python3",
      "display_name": "Python 3"
    }
  },
  "nbformat": 4,
  "nbformat_minor": 0
}